{
 "cells": [
  {
   "cell_type": "code",
   "execution_count": 1,
   "metadata": {
    "execution": {
     "iopub.execute_input": "2020-11-18T14:02:16.970651Z",
     "iopub.status.busy": "2020-11-18T14:02:16.969838Z",
     "iopub.status.idle": "2020-11-18T14:02:18.399892Z",
     "shell.execute_reply": "2020-11-18T14:02:18.400523Z"
    },
    "papermill": {
     "duration": 1.445593,
     "end_time": "2020-11-18T14:02:18.400644",
     "exception": false,
     "start_time": "2020-11-18T14:02:16.955051",
     "status": "completed"
    },
    "tags": []
   },
   "outputs": [],
   "source": [
    "from argopy import DataFetcher as ArgoDataFetcher\n",
    "import warnings\n",
    "warnings.filterwarnings('ignore')\n",
    "from netCDF4 import Dataset\n",
    "import pandas as pd\n",
    "import xarray as xr\n"
   ]
  },
  {
   "cell_type": "code",
   "execution_count": 2,
   "metadata": {
    "execution": {
     "iopub.execute_input": "2020-11-18T14:02:18.411550Z",
     "iopub.status.busy": "2020-11-18T14:02:18.410843Z",
     "iopub.status.idle": "2020-11-18T14:02:18.412623Z",
     "shell.execute_reply": "2020-11-18T14:02:18.413121Z"
    },
    "papermill": {
     "duration": 0.00839,
     "end_time": "2020-11-18T14:02:18.413217",
     "exception": false,
     "start_time": "2020-11-18T14:02:18.404827",
     "status": "completed"
    },
    "tags": [
     "parameters"
    ]
   },
   "outputs": [],
   "source": [
    "datemin='2009-01-01'\n",
    "datemax='2009-12-31'"
   ]
  },
  {
   "cell_type": "code",
   "execution_count": 3,
   "metadata": {
    "execution": {
     "iopub.execute_input": "2020-11-18T14:02:18.422754Z",
     "iopub.status.busy": "2020-11-18T14:02:18.422232Z",
     "iopub.status.idle": "2020-11-18T14:02:18.424052Z",
     "shell.execute_reply": "2020-11-18T14:02:18.424622Z"
    },
    "papermill": {
     "duration": 0.008167,
     "end_time": "2020-11-18T14:02:18.424761",
     "exception": false,
     "start_time": "2020-11-18T14:02:18.416594",
     "status": "completed"
    },
    "tags": [
     "injected-parameters"
    ]
   },
   "outputs": [],
   "source": [
    "# Parameters\n",
    "datemin = \"2010-01-01\"\n",
    "datemax = \"2010-12-31\"\n"
   ]
  },
  {
   "cell_type": "code",
   "execution_count": 4,
   "metadata": {
    "execution": {
     "iopub.execute_input": "2020-11-18T14:02:18.436953Z",
     "iopub.status.busy": "2020-11-18T14:02:18.436429Z",
     "iopub.status.idle": "2020-11-18T14:02:21.925837Z",
     "shell.execute_reply": "2020-11-18T14:02:21.926305Z"
    },
    "papermill": {
     "duration": 3.497391,
     "end_time": "2020-11-18T14:02:21.926399",
     "exception": false,
     "start_time": "2020-11-18T14:02:18.429008",
     "status": "completed"
    },
    "tags": []
   },
   "outputs": [],
   "source": [
    "ds_points=ArgoDataFetcher(src='erddap').region([-55,-40,30,40,0,10000,datemin,datemax]).to_xarray()\n",
    "ds_profiles=ds_points.argo.point2profile()\n",
    "ncdir='/Users/auraoupa/Data/ARGO'\n",
    "netcdf_file=ncdir+'/ARGO_profiles_selection_for_NANFL_'+str(datemin)+'-'+str(datemax)+'.nc'\n",
    "ds_profiles.to_netcdf(path=netcdf_file,mode='w')"
   ]
  },
  {
   "cell_type": "code",
   "execution_count": null,
   "metadata": {
    "papermill": {
     "duration": 0.003211,
     "end_time": "2020-11-18T14:02:21.933583",
     "exception": false,
     "start_time": "2020-11-18T14:02:21.930372",
     "status": "completed"
    },
    "tags": []
   },
   "outputs": [],
   "source": []
  }
 ],
 "metadata": {
  "celltoolbar": "Tags",
  "kernelspec": {
   "display_name": "stat-comp",
   "language": "python",
   "name": "stat-comp"
  },
  "language_info": {
   "codemirror_mode": {
    "name": "ipython",
    "version": 3
   },
   "file_extension": ".py",
   "mimetype": "text/x-python",
   "name": "python",
   "nbconvert_exporter": "python",
   "pygments_lexer": "ipython3",
   "version": "3.6.11"
  },
  "papermill": {
   "default_parameters": {},
   "duration": 7.045672,
   "end_time": "2020-11-18T14:02:23.263493",
   "environment_variables": {},
   "exception": null,
   "input_path": "/Users/auraoupa/Work/git/validation-TSprofiles/notebooks/2020-11-18-AA-netcdf-NANFL-date-mac.ipynb",
   "output_path": "/Users/auraoupa/Work/git/validation-TSprofiles/notebooks/2020-11-18-AA-netcdf-NANFL-2010-mac-output.ipynb",
   "parameters": {
    "datemax": "2010-12-31",
    "datemin": "2010-01-01"
   },
   "start_time": "2020-11-18T14:02:16.217821",
   "version": "2.2.2"
  }
 },
 "nbformat": 4,
 "nbformat_minor": 4
}