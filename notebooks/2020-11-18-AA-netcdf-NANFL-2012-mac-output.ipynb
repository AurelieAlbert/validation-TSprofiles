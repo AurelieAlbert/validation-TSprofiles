{
 "cells": [
  {
   "cell_type": "code",
   "execution_count": 1,
   "metadata": {
    "execution": {
     "iopub.execute_input": "2020-11-18T14:02:31.660105Z",
     "iopub.status.busy": "2020-11-18T14:02:31.659446Z",
     "iopub.status.idle": "2020-11-18T14:02:33.096476Z",
     "shell.execute_reply": "2020-11-18T14:02:33.096977Z"
    },
    "papermill": {
     "duration": 1.449348,
     "end_time": "2020-11-18T14:02:33.097101",
     "exception": false,
     "start_time": "2020-11-18T14:02:31.647753",
     "status": "completed"
    },
    "tags": []
   },
   "outputs": [],
   "source": [
    "from argopy import DataFetcher as ArgoDataFetcher\n",
    "import warnings\n",
    "warnings.filterwarnings('ignore')\n",
    "from netCDF4 import Dataset\n",
    "import pandas as pd\n",
    "import xarray as xr\n"
   ]
  },
  {
   "cell_type": "code",
   "execution_count": 2,
   "metadata": {
    "execution": {
     "iopub.execute_input": "2020-11-18T14:02:33.107872Z",
     "iopub.status.busy": "2020-11-18T14:02:33.107178Z",
     "iopub.status.idle": "2020-11-18T14:02:33.108744Z",
     "shell.execute_reply": "2020-11-18T14:02:33.109250Z"
    },
    "papermill": {
     "duration": 0.0082,
     "end_time": "2020-11-18T14:02:33.109385",
     "exception": false,
     "start_time": "2020-11-18T14:02:33.101185",
     "status": "completed"
    },
    "tags": [
     "parameters"
    ]
   },
   "outputs": [],
   "source": [
    "datemin='2009-01-01'\n",
    "datemax='2009-12-31'"
   ]
  },
  {
   "cell_type": "code",
   "execution_count": 3,
   "metadata": {
    "execution": {
     "iopub.execute_input": "2020-11-18T14:02:33.119102Z",
     "iopub.status.busy": "2020-11-18T14:02:33.118266Z",
     "iopub.status.idle": "2020-11-18T14:02:33.119934Z",
     "shell.execute_reply": "2020-11-18T14:02:33.120453Z"
    },
    "papermill": {
     "duration": 0.008239,
     "end_time": "2020-11-18T14:02:33.120547",
     "exception": false,
     "start_time": "2020-11-18T14:02:33.112308",
     "status": "completed"
    },
    "tags": [
     "injected-parameters"
    ]
   },
   "outputs": [],
   "source": [
    "# Parameters\n",
    "datemin = \"2012-01-01\"\n",
    "datemax = \"2012-12-31\"\n"
   ]
  },
  {
   "cell_type": "code",
   "execution_count": 4,
   "metadata": {
    "execution": {
     "iopub.execute_input": "2020-11-18T14:02:33.131234Z",
     "iopub.status.busy": "2020-11-18T14:02:33.130683Z",
     "iopub.status.idle": "2020-11-18T14:02:37.021731Z",
     "shell.execute_reply": "2020-11-18T14:02:37.022221Z"
    },
    "papermill": {
     "duration": 3.898849,
     "end_time": "2020-11-18T14:02:37.022319",
     "exception": false,
     "start_time": "2020-11-18T14:02:33.123470",
     "status": "completed"
    },
    "tags": []
   },
   "outputs": [],
   "source": [
    "ds_points=ArgoDataFetcher(src='erddap').region([-55,-40,30,40,0,10000,datemin,datemax]).to_xarray()\n",
    "ds_profiles=ds_points.argo.point2profile()\n",
    "ncdir='/Users/auraoupa/Data/ARGO'\n",
    "netcdf_file=ncdir+'/ARGO_profiles_selection_for_NANFL_'+str(datemin)+'-'+str(datemax)+'.nc'\n",
    "ds_profiles.to_netcdf(path=netcdf_file,mode='w')"
   ]
  },
  {
   "cell_type": "code",
   "execution_count": null,
   "metadata": {
    "papermill": {
     "duration": 0.003088,
     "end_time": "2020-11-18T14:02:37.029595",
     "exception": false,
     "start_time": "2020-11-18T14:02:37.026507",
     "status": "completed"
    },
    "tags": []
   },
   "outputs": [],
   "source": []
  }
 ],
 "metadata": {
  "celltoolbar": "Tags",
  "kernelspec": {
   "display_name": "stat-comp",
   "language": "python",
   "name": "stat-comp"
  },
  "language_info": {
   "codemirror_mode": {
    "name": "ipython",
    "version": 3
   },
   "file_extension": ".py",
   "mimetype": "text/x-python",
   "name": "python",
   "nbconvert_exporter": "python",
   "pygments_lexer": "ipython3",
   "version": "3.6.11"
  },
  "papermill": {
   "default_parameters": {},
   "duration": 6.602731,
   "end_time": "2020-11-18T14:02:37.557350",
   "environment_variables": {},
   "exception": null,
   "input_path": "/Users/auraoupa/Work/git/validation-TSprofiles/notebooks/2020-11-18-AA-netcdf-NANFL-date-mac.ipynb",
   "output_path": "/Users/auraoupa/Work/git/validation-TSprofiles/notebooks/2020-11-18-AA-netcdf-NANFL-2012-mac-output.ipynb",
   "parameters": {
    "datemax": "2012-12-31",
    "datemin": "2012-01-01"
   },
   "start_time": "2020-11-18T14:02:30.954619",
   "version": "2.2.2"
  }
 },
 "nbformat": 4,
 "nbformat_minor": 4
}