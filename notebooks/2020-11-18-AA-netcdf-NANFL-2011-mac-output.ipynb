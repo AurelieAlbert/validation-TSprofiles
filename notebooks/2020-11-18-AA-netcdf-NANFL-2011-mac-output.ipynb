{
 "cells": [
  {
   "cell_type": "code",
   "execution_count": 1,
   "metadata": {
    "execution": {
     "iopub.execute_input": "2020-11-18T14:02:24.995887Z",
     "iopub.status.busy": "2020-11-18T14:02:24.995169Z",
     "iopub.status.idle": "2020-11-18T14:02:26.479144Z",
     "shell.execute_reply": "2020-11-18T14:02:26.479643Z"
    },
    "papermill": {
     "duration": 1.496186,
     "end_time": "2020-11-18T14:02:26.479766",
     "exception": false,
     "start_time": "2020-11-18T14:02:24.983580",
     "status": "completed"
    },
    "tags": []
   },
   "outputs": [],
   "source": [
    "from argopy import DataFetcher as ArgoDataFetcher\n",
    "import warnings\n",
    "warnings.filterwarnings('ignore')\n",
    "from netCDF4 import Dataset\n",
    "import pandas as pd\n",
    "import xarray as xr\n"
   ]
  },
  {
   "cell_type": "code",
   "execution_count": 2,
   "metadata": {
    "execution": {
     "iopub.execute_input": "2020-11-18T14:02:26.499181Z",
     "iopub.status.busy": "2020-11-18T14:02:26.498558Z",
     "iopub.status.idle": "2020-11-18T14:02:26.500115Z",
     "shell.execute_reply": "2020-11-18T14:02:26.500576Z"
    },
    "papermill": {
     "duration": 0.016834,
     "end_time": "2020-11-18T14:02:26.500668",
     "exception": false,
     "start_time": "2020-11-18T14:02:26.483834",
     "status": "completed"
    },
    "tags": [
     "parameters"
    ]
   },
   "outputs": [],
   "source": [
    "datemin='2009-01-01'\n",
    "datemax='2009-12-31'"
   ]
  },
  {
   "cell_type": "code",
   "execution_count": 3,
   "metadata": {
    "execution": {
     "iopub.execute_input": "2020-11-18T14:02:26.509831Z",
     "iopub.status.busy": "2020-11-18T14:02:26.509319Z",
     "iopub.status.idle": "2020-11-18T14:02:26.510630Z",
     "shell.execute_reply": "2020-11-18T14:02:26.511086Z"
    },
    "papermill": {
     "duration": 0.007859,
     "end_time": "2020-11-18T14:02:26.511177",
     "exception": false,
     "start_time": "2020-11-18T14:02:26.503318",
     "status": "completed"
    },
    "tags": [
     "injected-parameters"
    ]
   },
   "outputs": [],
   "source": [
    "# Parameters\n",
    "datemin = \"2011-01-01\"\n",
    "datemax = \"2011-12-31\"\n"
   ]
  },
  {
   "cell_type": "code",
   "execution_count": 4,
   "metadata": {
    "execution": {
     "iopub.execute_input": "2020-11-18T14:02:26.522052Z",
     "iopub.status.busy": "2020-11-18T14:02:26.521467Z",
     "iopub.status.idle": "2020-11-18T14:02:30.382752Z",
     "shell.execute_reply": "2020-11-18T14:02:30.383102Z"
    },
    "papermill": {
     "duration": 3.869142,
     "end_time": "2020-11-18T14:02:30.383201",
     "exception": false,
     "start_time": "2020-11-18T14:02:26.514059",
     "status": "completed"
    },
    "tags": []
   },
   "outputs": [],
   "source": [
    "ds_points=ArgoDataFetcher(src='erddap').region([-55,-40,30,40,0,10000,datemin,datemax]).to_xarray()\n",
    "ds_profiles=ds_points.argo.point2profile()\n",
    "ncdir='/Users/auraoupa/Data/ARGO'\n",
    "netcdf_file=ncdir+'/ARGO_profiles_selection_for_NANFL_'+str(datemin)+'-'+str(datemax)+'.nc'\n",
    "ds_profiles.to_netcdf(path=netcdf_file,mode='w')"
   ]
  },
  {
   "cell_type": "code",
   "execution_count": null,
   "metadata": {
    "papermill": {
     "duration": 0.003107,
     "end_time": "2020-11-18T14:02:30.390335",
     "exception": false,
     "start_time": "2020-11-18T14:02:30.387228",
     "status": "completed"
    },
    "tags": []
   },
   "outputs": [],
   "source": []
  }
 ],
 "metadata": {
  "celltoolbar": "Tags",
  "kernelspec": {
   "display_name": "stat-comp",
   "language": "python",
   "name": "stat-comp"
  },
  "language_info": {
   "codemirror_mode": {
    "name": "ipython",
    "version": 3
   },
   "file_extension": ".py",
   "mimetype": "text/x-python",
   "name": "python",
   "nbconvert_exporter": "python",
   "pygments_lexer": "ipython3",
   "version": "3.6.11"
  },
  "papermill": {
   "default_parameters": {},
   "duration": 6.637581,
   "end_time": "2020-11-18T14:02:30.920796",
   "environment_variables": {},
   "exception": null,
   "input_path": "/Users/auraoupa/Work/git/validation-TSprofiles/notebooks/2020-11-18-AA-netcdf-NANFL-date-mac.ipynb",
   "output_path": "/Users/auraoupa/Work/git/validation-TSprofiles/notebooks/2020-11-18-AA-netcdf-NANFL-2011-mac-output.ipynb",
   "parameters": {
    "datemax": "2011-12-31",
    "datemin": "2011-01-01"
   },
   "start_time": "2020-11-18T14:02:24.283215",
   "version": "2.2.2"
  }
 },
 "nbformat": 4,
 "nbformat_minor": 4
}