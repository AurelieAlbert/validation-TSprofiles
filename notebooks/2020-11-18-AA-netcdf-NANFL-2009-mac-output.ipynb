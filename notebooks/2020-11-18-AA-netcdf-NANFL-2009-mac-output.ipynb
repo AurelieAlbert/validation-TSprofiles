{
 "cells": [
  {
   "cell_type": "code",
   "execution_count": 1,
   "metadata": {
    "execution": {
     "iopub.execute_input": "2020-11-18T14:02:07.167504Z",
     "iopub.status.busy": "2020-11-18T14:02:07.166645Z",
     "iopub.status.idle": "2020-11-18T14:02:09.762187Z",
     "shell.execute_reply": "2020-11-18T14:02:09.762791Z"
    },
    "papermill": {
     "duration": 2.607932,
     "end_time": "2020-11-18T14:02:09.762922",
     "exception": false,
     "start_time": "2020-11-18T14:02:07.154990",
     "status": "completed"
    },
    "tags": []
   },
   "outputs": [],
   "source": [
    "from argopy import DataFetcher as ArgoDataFetcher\n",
    "import warnings\n",
    "warnings.filterwarnings('ignore')\n",
    "from netCDF4 import Dataset\n",
    "import pandas as pd\n",
    "import xarray as xr\n"
   ]
  },
  {
   "cell_type": "code",
   "execution_count": 2,
   "metadata": {
    "execution": {
     "iopub.execute_input": "2020-11-18T14:02:09.776216Z",
     "iopub.status.busy": "2020-11-18T14:02:09.775533Z",
     "iopub.status.idle": "2020-11-18T14:02:09.777158Z",
     "shell.execute_reply": "2020-11-18T14:02:09.777684Z"
    },
    "papermill": {
     "duration": 0.008793,
     "end_time": "2020-11-18T14:02:09.777817",
     "exception": false,
     "start_time": "2020-11-18T14:02:09.769024",
     "status": "completed"
    },
    "tags": [
     "parameters"
    ]
   },
   "outputs": [],
   "source": [
    "datemin='2009-01-01'\n",
    "datemax='2009-12-31'"
   ]
  },
  {
   "cell_type": "code",
   "execution_count": 3,
   "metadata": {
    "execution": {
     "iopub.execute_input": "2020-11-18T14:02:09.787845Z",
     "iopub.status.busy": "2020-11-18T14:02:09.787261Z",
     "iopub.status.idle": "2020-11-18T14:02:09.788811Z",
     "shell.execute_reply": "2020-11-18T14:02:09.789267Z"
    },
    "papermill": {
     "duration": 0.008606,
     "end_time": "2020-11-18T14:02:09.789358",
     "exception": false,
     "start_time": "2020-11-18T14:02:09.780752",
     "status": "completed"
    },
    "tags": [
     "injected-parameters"
    ]
   },
   "outputs": [],
   "source": [
    "# Parameters\n",
    "datemin = \"2009-01-01\"\n",
    "datemax = \"2009-12-31\"\n"
   ]
  },
  {
   "cell_type": "code",
   "execution_count": 4,
   "metadata": {
    "execution": {
     "iopub.execute_input": "2020-11-18T14:02:09.802954Z",
     "iopub.status.busy": "2020-11-18T14:02:09.802435Z",
     "iopub.status.idle": "2020-11-18T14:02:14.927944Z",
     "shell.execute_reply": "2020-11-18T14:02:14.928276Z"
    },
    "papermill": {
     "duration": 5.135801,
     "end_time": "2020-11-18T14:02:14.928371",
     "exception": false,
     "start_time": "2020-11-18T14:02:09.792570",
     "status": "completed"
    },
    "tags": []
   },
   "outputs": [],
   "source": [
    "ds_points=ArgoDataFetcher(src='erddap').region([-55,-40,30,40,0,10000,datemin,datemax]).to_xarray()\n",
    "ds_profiles=ds_points.argo.point2profile()\n",
    "ncdir='/Users/auraoupa/Data/ARGO'\n",
    "netcdf_file=ncdir+'/ARGO_profiles_selection_for_NANFL_'+str(datemin)+'-'+str(datemax)+'.nc'\n",
    "ds_profiles.to_netcdf(path=netcdf_file,mode='w')"
   ]
  },
  {
   "cell_type": "code",
   "execution_count": null,
   "metadata": {
    "papermill": {
     "duration": 0.004015,
     "end_time": "2020-11-18T14:02:14.937555",
     "exception": false,
     "start_time": "2020-11-18T14:02:14.933540",
     "status": "completed"
    },
    "tags": []
   },
   "outputs": [],
   "source": []
  }
 ],
 "metadata": {
  "celltoolbar": "Tags",
  "kernelspec": {
   "display_name": "stat-comp",
   "language": "python",
   "name": "stat-comp"
  },
  "language_info": {
   "codemirror_mode": {
    "name": "ipython",
    "version": 3
   },
   "file_extension": ".py",
   "mimetype": "text/x-python",
   "name": "python",
   "nbconvert_exporter": "python",
   "pygments_lexer": "ipython3",
   "version": "3.6.11"
  },
  "papermill": {
   "default_parameters": {},
   "duration": 10.060616,
   "end_time": "2020-11-18T14:02:16.180576",
   "environment_variables": {},
   "exception": null,
   "input_path": "/Users/auraoupa/Work/git/validation-TSprofiles/notebooks/2020-11-18-AA-netcdf-NANFL-date-mac.ipynb",
   "output_path": "/Users/auraoupa/Work/git/validation-TSprofiles/notebooks/2020-11-18-AA-netcdf-NANFL-2009-mac-output.ipynb",
   "parameters": {
    "datemax": "2009-12-31",
    "datemin": "2009-01-01"
   },
   "start_time": "2020-11-18T14:02:06.119960",
   "version": "2.2.2"
  }
 },
 "nbformat": 4,
 "nbformat_minor": 4
}