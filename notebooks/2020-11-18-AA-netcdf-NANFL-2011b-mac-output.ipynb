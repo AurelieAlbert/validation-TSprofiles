{
 "cells": [
  {
   "cell_type": "code",
   "execution_count": 1,
   "metadata": {
    "execution": {
     "iopub.execute_input": "2020-11-18T14:03:02.149068Z",
     "iopub.status.busy": "2020-11-18T14:03:02.148290Z",
     "iopub.status.idle": "2020-11-18T14:03:03.588384Z",
     "shell.execute_reply": "2020-11-18T14:03:03.588744Z"
    },
    "papermill": {
     "duration": 1.452183,
     "end_time": "2020-11-18T14:03:03.588866",
     "exception": false,
     "start_time": "2020-11-18T14:03:02.136683",
     "status": "completed"
    },
    "tags": []
   },
   "outputs": [],
   "source": [
    "from argopy import DataFetcher as ArgoDataFetcher\n",
    "import warnings\n",
    "warnings.filterwarnings('ignore')\n",
    "from netCDF4 import Dataset\n",
    "import pandas as pd\n",
    "import xarray as xr\n"
   ]
  },
  {
   "cell_type": "code",
   "execution_count": 2,
   "metadata": {
    "execution": {
     "iopub.execute_input": "2020-11-18T14:03:03.599596Z",
     "iopub.status.busy": "2020-11-18T14:03:03.598852Z",
     "iopub.status.idle": "2020-11-18T14:03:03.600565Z",
     "shell.execute_reply": "2020-11-18T14:03:03.601026Z"
    },
    "papermill": {
     "duration": 0.008179,
     "end_time": "2020-11-18T14:03:03.601121",
     "exception": false,
     "start_time": "2020-11-18T14:03:03.592942",
     "status": "completed"
    },
    "tags": [
     "parameters"
    ]
   },
   "outputs": [],
   "source": [
    "datemin='2009-01-01'\n",
    "datemax='2009-12-31'"
   ]
  },
  {
   "cell_type": "code",
   "execution_count": 3,
   "metadata": {
    "execution": {
     "iopub.execute_input": "2020-11-18T14:03:03.609610Z",
     "iopub.status.busy": "2020-11-18T14:03:03.609084Z",
     "iopub.status.idle": "2020-11-18T14:03:03.610595Z",
     "shell.execute_reply": "2020-11-18T14:03:03.611077Z"
    },
    "papermill": {
     "duration": 0.007176,
     "end_time": "2020-11-18T14:03:03.611177",
     "exception": false,
     "start_time": "2020-11-18T14:03:03.604001",
     "status": "completed"
    },
    "tags": [
     "injected-parameters"
    ]
   },
   "outputs": [],
   "source": [
    "# Parameters\n",
    "datemin = \"2011-07-01\"\n",
    "datemax = \"2012-06-30\"\n"
   ]
  },
  {
   "cell_type": "code",
   "execution_count": 4,
   "metadata": {
    "execution": {
     "iopub.execute_input": "2020-11-18T14:03:03.621880Z",
     "iopub.status.busy": "2020-11-18T14:03:03.621331Z",
     "iopub.status.idle": "2020-11-18T14:03:07.100064Z",
     "shell.execute_reply": "2020-11-18T14:03:07.100596Z"
    },
    "papermill": {
     "duration": 3.486622,
     "end_time": "2020-11-18T14:03:07.100693",
     "exception": false,
     "start_time": "2020-11-18T14:03:03.614071",
     "status": "completed"
    },
    "tags": []
   },
   "outputs": [],
   "source": [
    "ds_points=ArgoDataFetcher(src='erddap').region([-55,-40,30,40,0,10000,datemin,datemax]).to_xarray()\n",
    "ds_profiles=ds_points.argo.point2profile()\n",
    "ncdir='/Users/auraoupa/Data/ARGO'\n",
    "netcdf_file=ncdir+'/ARGO_profiles_selection_for_NANFL_'+str(datemin)+'-'+str(datemax)+'.nc'\n",
    "ds_profiles.to_netcdf(path=netcdf_file,mode='w')"
   ]
  },
  {
   "cell_type": "code",
   "execution_count": null,
   "metadata": {
    "papermill": {
     "duration": 0.003557,
     "end_time": "2020-11-18T14:03:07.108502",
     "exception": false,
     "start_time": "2020-11-18T14:03:07.104945",
     "status": "completed"
    },
    "tags": []
   },
   "outputs": [],
   "source": []
  }
 ],
 "metadata": {
  "celltoolbar": "Tags",
  "kernelspec": {
   "display_name": "stat-comp",
   "language": "python",
   "name": "stat-comp"
  },
  "language_info": {
   "codemirror_mode": {
    "name": "ipython",
    "version": 3
   },
   "file_extension": ".py",
   "mimetype": "text/x-python",
   "name": "python",
   "nbconvert_exporter": "python",
   "pygments_lexer": "ipython3",
   "version": "3.6.11"
  },
  "papermill": {
   "default_parameters": {},
   "duration": 7.046379,
   "end_time": "2020-11-18T14:03:08.407592",
   "environment_variables": {},
   "exception": null,
   "input_path": "/Users/auraoupa/Work/git/validation-TSprofiles/notebooks/2020-11-18-AA-netcdf-NANFL-date-mac.ipynb",
   "output_path": "/Users/auraoupa/Work/git/validation-TSprofiles/notebooks/2020-11-18-AA-netcdf-NANFL-2011b-mac-output.ipynb",
   "parameters": {
    "datemax": "2012-06-30",
    "datemin": "2011-07-01"
   },
   "start_time": "2020-11-18T14:03:01.361213",
   "version": "2.2.2"
  }
 },
 "nbformat": 4,
 "nbformat_minor": 4
}