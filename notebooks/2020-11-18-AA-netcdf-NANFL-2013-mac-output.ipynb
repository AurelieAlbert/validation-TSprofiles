{
 "cells": [
  {
   "cell_type": "code",
   "execution_count": 1,
   "metadata": {
    "execution": {
     "iopub.execute_input": "2020-11-18T14:02:38.300152Z",
     "iopub.status.busy": "2020-11-18T14:02:38.299515Z",
     "iopub.status.idle": "2020-11-18T14:02:39.782110Z",
     "shell.execute_reply": "2020-11-18T14:02:39.782613Z"
    },
    "papermill": {
     "duration": 1.494989,
     "end_time": "2020-11-18T14:02:39.782732",
     "exception": false,
     "start_time": "2020-11-18T14:02:38.287743",
     "status": "completed"
    },
    "tags": []
   },
   "outputs": [],
   "source": [
    "from argopy import DataFetcher as ArgoDataFetcher\n",
    "import warnings\n",
    "warnings.filterwarnings('ignore')\n",
    "from netCDF4 import Dataset\n",
    "import pandas as pd\n",
    "import xarray as xr\n"
   ]
  },
  {
   "cell_type": "code",
   "execution_count": 2,
   "metadata": {
    "execution": {
     "iopub.execute_input": "2020-11-18T14:02:39.793596Z",
     "iopub.status.busy": "2020-11-18T14:02:39.792945Z",
     "iopub.status.idle": "2020-11-18T14:02:39.794762Z",
     "shell.execute_reply": "2020-11-18T14:02:39.795283Z"
    },
    "papermill": {
     "duration": 0.008417,
     "end_time": "2020-11-18T14:02:39.795386",
     "exception": false,
     "start_time": "2020-11-18T14:02:39.786969",
     "status": "completed"
    },
    "tags": [
     "parameters"
    ]
   },
   "outputs": [],
   "source": [
    "datemin='2009-01-01'\n",
    "datemax='2009-12-31'"
   ]
  },
  {
   "cell_type": "code",
   "execution_count": 3,
   "metadata": {
    "execution": {
     "iopub.execute_input": "2020-11-18T14:02:39.804475Z",
     "iopub.status.busy": "2020-11-18T14:02:39.803916Z",
     "iopub.status.idle": "2020-11-18T14:02:39.805408Z",
     "shell.execute_reply": "2020-11-18T14:02:39.805917Z"
    },
    "papermill": {
     "duration": 0.007788,
     "end_time": "2020-11-18T14:02:39.806011",
     "exception": false,
     "start_time": "2020-11-18T14:02:39.798223",
     "status": "completed"
    },
    "tags": [
     "injected-parameters"
    ]
   },
   "outputs": [],
   "source": [
    "# Parameters\n",
    "datemin = \"2013-01-01\"\n",
    "datemax = \"2013-12-31\"\n"
   ]
  },
  {
   "cell_type": "code",
   "execution_count": 4,
   "metadata": {
    "execution": {
     "iopub.execute_input": "2020-11-18T14:02:39.816515Z",
     "iopub.status.busy": "2020-11-18T14:02:39.816035Z",
     "iopub.status.idle": "2020-11-18T14:02:47.449461Z",
     "shell.execute_reply": "2020-11-18T14:02:47.449954Z"
    },
    "papermill": {
     "duration": 7.641255,
     "end_time": "2020-11-18T14:02:47.450053",
     "exception": false,
     "start_time": "2020-11-18T14:02:39.808798",
     "status": "completed"
    },
    "tags": []
   },
   "outputs": [],
   "source": [
    "ds_points=ArgoDataFetcher(src='erddap').region([-55,-40,30,40,0,10000,datemin,datemax]).to_xarray()\n",
    "ds_profiles=ds_points.argo.point2profile()\n",
    "ncdir='/Users/auraoupa/Data/ARGO'\n",
    "netcdf_file=ncdir+'/ARGO_profiles_selection_for_NANFL_'+str(datemin)+'-'+str(datemax)+'.nc'\n",
    "ds_profiles.to_netcdf(path=netcdf_file,mode='w')"
   ]
  },
  {
   "cell_type": "code",
   "execution_count": null,
   "metadata": {
    "papermill": {
     "duration": 0.003415,
     "end_time": "2020-11-18T14:02:47.457473",
     "exception": false,
     "start_time": "2020-11-18T14:02:47.454058",
     "status": "completed"
    },
    "tags": []
   },
   "outputs": [],
   "source": []
  }
 ],
 "metadata": {
  "celltoolbar": "Tags",
  "kernelspec": {
   "display_name": "stat-comp",
   "language": "python",
   "name": "stat-comp"
  },
  "language_info": {
   "codemirror_mode": {
    "name": "ipython",
    "version": 3
   },
   "file_extension": ".py",
   "mimetype": "text/x-python",
   "name": "python",
   "nbconvert_exporter": "python",
   "pygments_lexer": "ipython3",
   "version": "3.6.11"
  },
  "papermill": {
   "default_parameters": {},
   "duration": 10.402184,
   "end_time": "2020-11-18T14:02:47.994291",
   "environment_variables": {},
   "exception": null,
   "input_path": "/Users/auraoupa/Work/git/validation-TSprofiles/notebooks/2020-11-18-AA-netcdf-NANFL-date-mac.ipynb",
   "output_path": "/Users/auraoupa/Work/git/validation-TSprofiles/notebooks/2020-11-18-AA-netcdf-NANFL-2013-mac-output.ipynb",
   "parameters": {
    "datemax": "2013-12-31",
    "datemin": "2013-01-01"
   },
   "start_time": "2020-11-18T14:02:37.592107",
   "version": "2.2.2"
  }
 },
 "nbformat": 4,
 "nbformat_minor": 4
}