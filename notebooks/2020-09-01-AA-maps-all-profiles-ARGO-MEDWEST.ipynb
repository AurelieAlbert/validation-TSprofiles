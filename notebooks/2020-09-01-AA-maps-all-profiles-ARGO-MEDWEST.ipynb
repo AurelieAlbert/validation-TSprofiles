{
 "cells": [
  {
   "cell_type": "code",
   "execution_count": 1,
   "metadata": {},
   "outputs": [
    {
     "name": "stderr",
     "output_type": "stream",
     "text": [
      "/home/alberta/miniconda2/envs/stat-comp/lib/python3.6/site-packages/argopy/plotters.py:41: UserWarning: argopy requires seaborn installed for full plotting functionality\n",
      "  warnings.warn(\"argopy requires seaborn installed for full plotting functionality\")\n"
     ]
    }
   ],
   "source": [
    "# Imports of librairies\n",
    "import numpy as np\n",
    "\n",
    "import time\n",
    "import sys\n",
    "import os\n",
    "import glob\n",
    "import io\n",
    "\n",
    "import datetime\n",
    "from datetime import date\n",
    "\n",
    "from netCDF4 import Dataset\n",
    "import pandas as pd\n",
    "import xarray as xr\n",
    "import dask\n",
    "\n",
    "from argopy import DataFetcher as ArgoDataFetcher\n",
    "\n",
    "import json\n",
    "import re\n",
    "\n",
    "import seawater\n",
    "import cmocean\n",
    "\n",
    "import matplotlib.pyplot as plt\n",
    "import cartopy.crs as ccrs\n",
    "import cartopy.feature as cfeature\n",
    "from cartopy.mpl.gridliner import LONGITUDE_FORMATTER, LATITUDE_FORMATTER\n"
   ]
  },
  {
   "cell_type": "code",
   "execution_count": 2,
   "metadata": {},
   "outputs": [],
   "source": [
    "import warnings\n",
    "warnings.filterwarnings('ignore')\n",
    "\n",
    "import sys\n",
    "sys.path.insert(0,'/home/alberta/Work/git/validation-TSprofiles/stat_comp')\n",
    "sys.path.insert(0,'/home/alberta/Work/git/validation-TSprofiles/param')\n",
    "\n",
    "import stat_comp as sc\n",
    "import param_all_profiles_MEDWEST60_1an_pc as param"
   ]
  },
  {
   "cell_type": "code",
   "execution_count": 3,
   "metadata": {},
   "outputs": [],
   "source": [
    "params = {\n",
    "    'config':param.config,\n",
    "    'case':param.case,\n",
    "    'member':param.member,\n",
    "    'dirmod':param.dirmod,\n",
    "    'coordfile':param.coordfile,\n",
    "    'maskfile':param.maskfile,\n",
    "    'hgrfile':param.hgrfile,\n",
    "    'zgrfile':param.zgrfile,\n",
    "    'batfile':param.batfile,\n",
    "    'namlatmod':param.namlatmod,\n",
    "    'namlonmod':param.namlonmod,\n",
    "    'namdepmod':param.namdepmod,\n",
    "    'nammaskmod':param.nammaskmod,\n",
    "    'ymin':param.ymin,\n",
    "    'mmin':param.mmin,\n",
    "    'dmin':param.dmin,\n",
    "    'ymax':param.ymax,\n",
    "    'mmax':param.mmax,\n",
    "    'dmax':param.dmax,\n",
    "    'depthmin':param.depthmin,\n",
    "    'radius_max':param.radius_max,\n",
    "    'period':param.period,\n",
    "    'number_of_model_profiles':param.number_of_model_profiles,\n",
    "    'plotdir':param.plotdir,\n",
    "    'jsondir':param.jsondir,\n",
    "    'dmap':param.dmap,\n",
    "    'sosie_exec':param.sosie_exec}"
   ]
  },
  {
   "cell_type": "code",
   "execution_count": 4,
   "metadata": {},
   "outputs": [
    {
     "ename": "FileNotFoundError",
     "evalue": "[Errno 2] No such file or directory: 'ij_found.out'",
     "output_type": "error",
     "traceback": [
      "\u001b[0;31m---------------------------------------------------------------------------\u001b[0m",
      "\u001b[0;31mFileNotFoundError\u001b[0m                         Traceback (most recent call last)",
      "\u001b[0;32m<ipython-input-4-efb4685ec9c4>\u001b[0m in \u001b[0;36m<module>\u001b[0;34m\u001b[0m\n\u001b[0;32m----> 1\u001b[0;31m \u001b[0mds_profiles\u001b[0m\u001b[0;34m=\u001b[0m\u001b[0msc\u001b[0m\u001b[0;34m.\u001b[0m\u001b[0mselection\u001b[0m\u001b[0;34m(\u001b[0m\u001b[0;34m**\u001b[0m\u001b[0mparams\u001b[0m\u001b[0;34m)\u001b[0m\u001b[0;34m\u001b[0m\u001b[0;34m\u001b[0m\u001b[0m\n\u001b[0m",
      "\u001b[0;32m~/Work/git/validation-TSprofiles/stat_comp/stat_comp.py\u001b[0m in \u001b[0;36mselection\u001b[0;34m(config, case, member, dirmod, coordfile, maskfile, hgrfile, zgrfile, batfile, namlatmod, namlonmod, namdepmod, nammaskmod, ymin, mmin, dmin, ymax, mmax, dmax, depthmin, radius_max, period, number_of_model_profiles, plotdir, jsondir, dmap, sosie_exec)\u001b[0m\n\u001b[1;32m    187\u001b[0m         \u001b[0mlonargo\u001b[0m\u001b[0;34m=\u001b[0m\u001b[0mds_profiles\u001b[0m\u001b[0;34m.\u001b[0m\u001b[0mLONGITUDE\u001b[0m\u001b[0;34m[\u001b[0m\u001b[0mnprof\u001b[0m\u001b[0;34m]\u001b[0m\u001b[0;34m.\u001b[0m\u001b[0mvalues\u001b[0m\u001b[0;34m\u001b[0m\u001b[0;34m\u001b[0m\u001b[0m\n\u001b[1;32m    188\u001b[0m         \u001b[0mpresargo\u001b[0m\u001b[0;34m=\u001b[0m\u001b[0mds_profiles\u001b[0m\u001b[0;34m.\u001b[0m\u001b[0mPRES\u001b[0m\u001b[0;34m[\u001b[0m\u001b[0mnprof\u001b[0m\u001b[0;34m,\u001b[0m\u001b[0;34m:\u001b[0m\u001b[0;34m]\u001b[0m\u001b[0;34m.\u001b[0m\u001b[0mvalues\u001b[0m\u001b[0;34m\u001b[0m\u001b[0;34m\u001b[0m\u001b[0m\n\u001b[0;32m--> 189\u001b[0;31m         \u001b[0mi0\u001b[0m\u001b[0;34m,\u001b[0m\u001b[0mj0\u001b[0m\u001b[0;34m=\u001b[0m\u001b[0mloc\u001b[0m\u001b[0;34m(\u001b[0m\u001b[0mlatargo\u001b[0m\u001b[0;34m,\u001b[0m\u001b[0mlonargo\u001b[0m\u001b[0;34m,\u001b[0m\u001b[0mnprof\u001b[0m\u001b[0;34m,\u001b[0m\u001b[0mmaskfile\u001b[0m\u001b[0;34m,\u001b[0m\u001b[0mnamlatmod\u001b[0m\u001b[0;34m,\u001b[0m\u001b[0mnamlonmod\u001b[0m\u001b[0;34m,\u001b[0m\u001b[0mnammaskmod\u001b[0m\u001b[0;34m,\u001b[0m\u001b[0msosie_exec\u001b[0m\u001b[0;34m)\u001b[0m\u001b[0;34m\u001b[0m\u001b[0;34m\u001b[0m\u001b[0m\n\u001b[0m\u001b[1;32m    190\u001b[0m         \u001b[0;32mif\u001b[0m \u001b[0;34m(\u001b[0m\u001b[0mi0\u001b[0m\u001b[0;34m,\u001b[0m\u001b[0mj0\u001b[0m\u001b[0;34m)\u001b[0m \u001b[0;34m==\u001b[0m \u001b[0;34m(\u001b[0m\u001b[0;34m-\u001b[0m\u001b[0;36m1\u001b[0m\u001b[0;34m,\u001b[0m\u001b[0;34m-\u001b[0m\u001b[0;36m1\u001b[0m\u001b[0;34m)\u001b[0m\u001b[0;34m:\u001b[0m\u001b[0;34m\u001b[0m\u001b[0;34m\u001b[0m\u001b[0m\n\u001b[1;32m    191\u001b[0m             \u001b[0mprint\u001b[0m\u001b[0;34m(\u001b[0m\u001b[0;34m'profile is not in the domain at all'\u001b[0m\u001b[0;34m)\u001b[0m\u001b[0;34m\u001b[0m\u001b[0;34m\u001b[0m\u001b[0m\n",
      "\u001b[0;32m~/Work/git/validation-TSprofiles/stat_comp/stat_comp.py\u001b[0m in \u001b[0;36mloc\u001b[0;34m(latargo, lonargo, nprof, meshfile, namlatmod, namlonmod, nammaskmod, sosie_exec)\u001b[0m\n\u001b[1;32m     64\u001b[0m             \u001b[0mos\u001b[0m\u001b[0;34m.\u001b[0m\u001b[0msystem\u001b[0m\u001b[0;34m(\u001b[0m\u001b[0mstr\u001b[0m\u001b[0;34m(\u001b[0m\u001b[0msosie_exec\u001b[0m\u001b[0;34m)\u001b[0m\u001b[0;34m+\u001b[0m\u001b[0;34m' -i $meshfile -p txt/prof0.txt > txt/output'\u001b[0m\u001b[0;34m)\u001b[0m\u001b[0;34m\u001b[0m\u001b[0;34m\u001b[0m\u001b[0m\n\u001b[1;32m     65\u001b[0m \u001b[0;34m\u001b[0m\u001b[0m\n\u001b[0;32m---> 66\u001b[0;31m             \u001b[0;32mwith\u001b[0m \u001b[0mopen\u001b[0m\u001b[0;34m(\u001b[0m\u001b[0;34m'ij_found.out'\u001b[0m\u001b[0;34m,\u001b[0m\u001b[0;34m'r'\u001b[0m\u001b[0;34m)\u001b[0m \u001b[0;32mas\u001b[0m \u001b[0mtxt_file\u001b[0m\u001b[0;34m:\u001b[0m\u001b[0;34m\u001b[0m\u001b[0;34m\u001b[0m\u001b[0m\n\u001b[0m\u001b[1;32m     67\u001b[0m                 \u001b[0mlast_line\u001b[0m \u001b[0;34m=\u001b[0m \u001b[0mtxt_file\u001b[0m\u001b[0;34m.\u001b[0m\u001b[0mreadlines\u001b[0m\u001b[0;34m(\u001b[0m\u001b[0;34m)\u001b[0m\u001b[0;34m[\u001b[0m\u001b[0;34m-\u001b[0m\u001b[0;36m1\u001b[0m\u001b[0;34m]\u001b[0m\u001b[0;34m\u001b[0m\u001b[0;34m\u001b[0m\u001b[0m\n\u001b[1;32m     68\u001b[0m                 \u001b[0;32mif\u001b[0m \u001b[0mlast_line\u001b[0m\u001b[0;34m[\u001b[0m\u001b[0;36m1\u001b[0m\u001b[0;34m]\u001b[0m \u001b[0;34m==\u001b[0m \u001b[0;34m'#'\u001b[0m\u001b[0;34m:\u001b[0m\u001b[0;34m\u001b[0m\u001b[0;34m\u001b[0m\u001b[0m\n",
      "\u001b[0;31mFileNotFoundError\u001b[0m: [Errno 2] No such file or directory: 'ij_found.out'"
     ]
    }
   ],
   "source": [
    "ds_profiles=sc.selection(**params)"
   ]
  },
  {
   "cell_type": "raw",
   "metadata": {},
   "source": [
    "datemin=datetime.date(params['ymin'],params['mmin'],params['dmin'])+datetime.timedelta(days=params['period'])\n",
    "datemax=datetime.date(params['ymax'],params['mmax'],params['dmax'])-datetime.timedelta(days=params['period'])\n",
    "# determining the area\n",
    "ds=xr.open_dataset(params['maskfile'])\n",
    "lat=ds[params['namlatmod']]\n",
    "lon=ds[params['namlonmod']]\n",
    "latmodmin,latmodmax,lonmodmin,lonmodmax=(lat.min(),lat.max(),lon.min(),lon.max())\n"
   ]
  },
  {
   "cell_type": "raw",
   "metadata": {},
   "source": [
    "# use argopy to get the selection of profiles\n",
    "ds_points=ArgoDataFetcher().region([lonmodmin.values,lonmodmax.values,latmodmin.values,latmodmax.values,0,12000,str(datemin),str(datemax)]).to_xarray()\n",
    "ds_profiles=ds_points.argo.point2profile()"
   ]
  },
  {
   "cell_type": "code",
   "execution_count": null,
   "metadata": {},
   "outputs": [],
   "source": [
    "ds_profiles"
   ]
  },
  {
   "cell_type": "code",
   "execution_count": null,
   "metadata": {},
   "outputs": [],
   "source": [
    "sc.plot_profiles_argo(ds_profiles,**params)"
   ]
  },
  {
   "cell_type": "code",
   "execution_count": null,
   "metadata": {},
   "outputs": [],
   "source": []
  }
 ],
 "metadata": {
  "kernelspec": {
   "display_name": "stat-comp",
   "language": "python",
   "name": "stat-comp"
  },
  "language_info": {
   "codemirror_mode": {
    "name": "ipython",
    "version": 3
   },
   "file_extension": ".py",
   "mimetype": "text/x-python",
   "name": "python",
   "nbconvert_exporter": "python",
   "pygments_lexer": "ipython3",
   "version": "3.6.11"
  }
 },
 "nbformat": 4,
 "nbformat_minor": 2
}
