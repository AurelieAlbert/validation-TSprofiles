{
 "cells": [
  {
   "cell_type": "code",
   "execution_count": null,
   "metadata": {},
   "outputs": [],
   "source": [
    "# Following 2020-09-01-AA-maps-all-profiles-ARGO-MEDWEST-jz.py that produced the netcdf"
   ]
  },
  {
   "cell_type": "code",
   "execution_count": null,
   "metadata": {},
   "outputs": [],
   "source": [
    "# Imports of librairies\n",
    "import numpy as np\n",
    "\n",
    "import time\n",
    "import sys\n",
    "import os\n",
    "import glob\n",
    "import io\n",
    "\n",
    "import datetime\n",
    "from datetime import date\n",
    "\n",
    "from netCDF4 import Dataset\n",
    "import pandas as pd\n",
    "import xarray as xr\n",
    "import dask\n",
    "\n",
    "#from argopy import DataFetcher as ArgoDataFetcher\n",
    "\n",
    "import json\n",
    "import re\n",
    "\n",
    "import seawater\n",
    "import cmocean\n",
    "\n",
    "import matplotlib.pyplot as plt\n",
    "import cartopy.crs as ccrs\n",
    "import cartopy.feature as cfeature\n",
    "from cartopy.mpl.gridliner import LONGITUDE_FORMATTER, LATITUDE_FORMATTER\n"
   ]
  },
  {
   "cell_type": "code",
   "execution_count": null,
   "metadata": {},
   "outputs": [],
   "source": [
    "import sys\n",
    "sys.path.insert(0,'/mnt/meom/workdir/alberta/DEV/git/validation-TSprofiles/stat_comp')\n",
    "sys.path.insert(0,'/mnt/meom/workdir/alberta/DEV/git/validation-TSprofiles/param')\n",
    "\n",
    "import stat_comp as sc\n",
    "import param_all_profiles_MEDWEST60_2009_2010_jz as param"
   ]
  },
  {
   "cell_type": "code",
   "execution_count": null,
   "metadata": {},
   "outputs": [],
   "source": [
    "params = {\n",
    "    'config':param.config,\n",
    "    'case':param.case,\n",
    "    'member':param.member,\n",
    "    'dirmod':param.dirmod,\n",
    "    'coordfile':param.coordfile,\n",
    "    'maskfile':param.maskfile,\n",
    "    'hgrfile':param.hgrfile,\n",
    "    'zgrfile':param.zgrfile,\n",
    "    'batfile':param.batfile,\n",
    "    'namlatmod':param.namlatmod,\n",
    "    'namlonmod':param.namlonmod,\n",
    "    'namdepmod':param.namdepmod,\n",
    "    'nammaskmod':param.nammaskmod,\n",
    "    'ymin':param.ymin,\n",
    "    'mmin':param.mmin,\n",
    "    'dmin':param.dmin,\n",
    "    'ymax':param.ymax,\n",
    "    'mmax':param.mmax,\n",
    "    'dmax':param.dmax,\n",
    "    'depthmin':param.depthmin,\n",
    "    'radius_max':param.radius_max,\n",
    "    'period':param.period,\n",
    "    'number_of_model_profiles':param.number_of_model_profiles,\n",
    "    'plotdir':param.plotdir,\n",
    "    'ncdir':param.ncdir,\n",
    "    'dmap':param.dmap,\n",
    "    'sosie_exec':param.sosie_exec}"
   ]
  },
  {
   "cell_type": "code",
   "execution_count": null,
   "metadata": {},
   "outputs": [],
   "source": [
    "datemin=datetime.date(params['ymin'],params['mmin'],params['dmin'])+datetime.timedelta(days=params['period'])\n",
    "datemax=datetime.date(params['ymax'],params['mmax'],params['dmax'])-datetime.timedelta(days=params['period'])\n",
    "\n",
    "netcdf_file=params['ncdir']+'/ARGO_profiles_selection_for_'+str(params['config'])+'-'+str(params['case'])+'_'+str(datemin)+'-'+str(datemax)+'_'+str(params['depthmin'])+'m_'+str(params['radius_max'])+'x'+str(params['period'])+'d_'+str(params['number_of_model_profiles'])+'.nc'"
   ]
  },
  {
   "cell_type": "code",
   "execution_count": null,
   "metadata": {},
   "outputs": [],
   "source": [
    "ds_profiles=xr.open_dataset(netcdf_file)"
   ]
  },
  {
   "cell_type": "code",
   "execution_count": null,
   "metadata": {},
   "outputs": [],
   "source": [
    "sc.plot_profiles_argo(ds_profiles,**params)"
   ]
  },
  {
   "cell_type": "code",
   "execution_count": null,
   "metadata": {},
   "outputs": [],
   "source": []
  }
 ],
 "metadata": {
  "kernelspec": {
   "display_name": "stat-comp",
   "language": "python",
   "name": "stat-comp"
  },
  "language_info": {
   "codemirror_mode": {
    "name": "ipython",
    "version": 3
   },
   "file_extension": ".py",
   "mimetype": "text/x-python",
   "name": "python",
   "nbconvert_exporter": "python",
   "pygments_lexer": "ipython3",
   "version": "3.6.11"
  }
 },
 "nbformat": 4,
 "nbformat_minor": 2
}
