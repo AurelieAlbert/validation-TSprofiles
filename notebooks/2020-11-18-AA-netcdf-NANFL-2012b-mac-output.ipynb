{
 "cells": [
  {
   "cell_type": "code",
   "execution_count": 1,
   "metadata": {
    "execution": {
     "iopub.execute_input": "2020-11-18T14:03:10.122480Z",
     "iopub.status.busy": "2020-11-18T14:03:10.121826Z",
     "iopub.status.idle": "2020-11-18T14:03:12.652235Z",
     "shell.execute_reply": "2020-11-18T14:03:12.652730Z"
    },
    "papermill": {
     "duration": 2.542938,
     "end_time": "2020-11-18T14:03:12.652851",
     "exception": false,
     "start_time": "2020-11-18T14:03:10.109913",
     "status": "completed"
    },
    "tags": []
   },
   "outputs": [],
   "source": [
    "from argopy import DataFetcher as ArgoDataFetcher\n",
    "import warnings\n",
    "warnings.filterwarnings('ignore')\n",
    "from netCDF4 import Dataset\n",
    "import pandas as pd\n",
    "import xarray as xr\n"
   ]
  },
  {
   "cell_type": "code",
   "execution_count": 2,
   "metadata": {
    "execution": {
     "iopub.execute_input": "2020-11-18T14:03:12.663586Z",
     "iopub.status.busy": "2020-11-18T14:03:12.662972Z",
     "iopub.status.idle": "2020-11-18T14:03:12.664812Z",
     "shell.execute_reply": "2020-11-18T14:03:12.665271Z"
    },
    "papermill": {
     "duration": 0.008379,
     "end_time": "2020-11-18T14:03:12.665362",
     "exception": false,
     "start_time": "2020-11-18T14:03:12.656983",
     "status": "completed"
    },
    "tags": [
     "parameters"
    ]
   },
   "outputs": [],
   "source": [
    "datemin='2009-01-01'\n",
    "datemax='2009-12-31'"
   ]
  },
  {
   "cell_type": "code",
   "execution_count": 3,
   "metadata": {
    "execution": {
     "iopub.execute_input": "2020-11-18T14:03:12.673956Z",
     "iopub.status.busy": "2020-11-18T14:03:12.673404Z",
     "iopub.status.idle": "2020-11-18T14:03:12.675093Z",
     "shell.execute_reply": "2020-11-18T14:03:12.675551Z"
    },
    "papermill": {
     "duration": 0.007473,
     "end_time": "2020-11-18T14:03:12.675643",
     "exception": false,
     "start_time": "2020-11-18T14:03:12.668170",
     "status": "completed"
    },
    "tags": [
     "injected-parameters"
    ]
   },
   "outputs": [],
   "source": [
    "# Parameters\n",
    "datemin = \"2012-07-01\"\n",
    "datemax = \"2013-06-30\"\n"
   ]
  },
  {
   "cell_type": "code",
   "execution_count": 4,
   "metadata": {
    "execution": {
     "iopub.execute_input": "2020-11-18T14:03:12.686211Z",
     "iopub.status.busy": "2020-11-18T14:03:12.685718Z",
     "iopub.status.idle": "2020-11-18T14:03:17.554990Z",
     "shell.execute_reply": "2020-11-18T14:03:17.555474Z"
    },
    "papermill": {
     "duration": 4.877182,
     "end_time": "2020-11-18T14:03:17.555571",
     "exception": false,
     "start_time": "2020-11-18T14:03:12.678389",
     "status": "completed"
    },
    "tags": []
   },
   "outputs": [],
   "source": [
    "ds_points=ArgoDataFetcher(src='erddap').region([-55,-40,30,40,0,10000,datemin,datemax]).to_xarray()\n",
    "ds_profiles=ds_points.argo.point2profile()\n",
    "ncdir='/Users/auraoupa/Data/ARGO'\n",
    "netcdf_file=ncdir+'/ARGO_profiles_selection_for_NANFL_'+str(datemin)+'-'+str(datemax)+'.nc'\n",
    "ds_profiles.to_netcdf(path=netcdf_file,mode='w')"
   ]
  },
  {
   "cell_type": "code",
   "execution_count": null,
   "metadata": {
    "papermill": {
     "duration": 0.003371,
     "end_time": "2020-11-18T14:03:17.562840",
     "exception": false,
     "start_time": "2020-11-18T14:03:17.559469",
     "status": "completed"
    },
    "tags": []
   },
   "outputs": [],
   "source": []
  }
 ],
 "metadata": {
  "celltoolbar": "Tags",
  "kernelspec": {
   "display_name": "stat-comp",
   "language": "python",
   "name": "stat-comp"
  },
  "language_info": {
   "codemirror_mode": {
    "name": "ipython",
    "version": 3
   },
   "file_extension": ".py",
   "mimetype": "text/x-python",
   "name": "python",
   "nbconvert_exporter": "python",
   "pygments_lexer": "ipython3",
   "version": "3.6.11"
  },
  "papermill": {
   "default_parameters": {},
   "duration": 8.65332,
   "end_time": "2020-11-18T14:03:18.081401",
   "environment_variables": {},
   "exception": null,
   "input_path": "/Users/auraoupa/Work/git/validation-TSprofiles/notebooks/2020-11-18-AA-netcdf-NANFL-date-mac.ipynb",
   "output_path": "/Users/auraoupa/Work/git/validation-TSprofiles/notebooks/2020-11-18-AA-netcdf-NANFL-2012b-mac-output.ipynb",
   "parameters": {
    "datemax": "2013-06-30",
    "datemin": "2012-07-01"
   },
   "start_time": "2020-11-18T14:03:09.428081",
   "version": "2.2.2"
  }
 },
 "nbformat": 4,
 "nbformat_minor": 4
}