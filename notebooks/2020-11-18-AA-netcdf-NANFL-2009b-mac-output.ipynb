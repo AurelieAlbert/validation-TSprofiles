{
 "cells": [
  {
   "cell_type": "code",
   "execution_count": 1,
   "metadata": {
    "execution": {
     "iopub.execute_input": "2020-11-18T14:02:48.793459Z",
     "iopub.status.busy": "2020-11-18T14:02:48.792826Z",
     "iopub.status.idle": "2020-11-18T14:02:50.279151Z",
     "shell.execute_reply": "2020-11-18T14:02:50.279648Z"
    },
    "papermill": {
     "duration": 1.498416,
     "end_time": "2020-11-18T14:02:50.279768",
     "exception": false,
     "start_time": "2020-11-18T14:02:48.781352",
     "status": "completed"
    },
    "tags": []
   },
   "outputs": [],
   "source": [
    "from argopy import DataFetcher as ArgoDataFetcher\n",
    "import warnings\n",
    "warnings.filterwarnings('ignore')\n",
    "from netCDF4 import Dataset\n",
    "import pandas as pd\n",
    "import xarray as xr\n"
   ]
  },
  {
   "cell_type": "code",
   "execution_count": 2,
   "metadata": {
    "execution": {
     "iopub.execute_input": "2020-11-18T14:02:50.290857Z",
     "iopub.status.busy": "2020-11-18T14:02:50.290261Z",
     "iopub.status.idle": "2020-11-18T14:02:50.291845Z",
     "shell.execute_reply": "2020-11-18T14:02:50.292326Z"
    },
    "papermill": {
     "duration": 0.008461,
     "end_time": "2020-11-18T14:02:50.292420",
     "exception": false,
     "start_time": "2020-11-18T14:02:50.283959",
     "status": "completed"
    },
    "tags": [
     "parameters"
    ]
   },
   "outputs": [],
   "source": [
    "datemin='2009-01-01'\n",
    "datemax='2009-12-31'"
   ]
  },
  {
   "cell_type": "code",
   "execution_count": 3,
   "metadata": {
    "execution": {
     "iopub.execute_input": "2020-11-18T14:02:50.301094Z",
     "iopub.status.busy": "2020-11-18T14:02:50.300629Z",
     "iopub.status.idle": "2020-11-18T14:02:50.302473Z",
     "shell.execute_reply": "2020-11-18T14:02:50.302927Z"
    },
    "papermill": {
     "duration": 0.007726,
     "end_time": "2020-11-18T14:02:50.303014",
     "exception": false,
     "start_time": "2020-11-18T14:02:50.295288",
     "status": "completed"
    },
    "tags": [
     "injected-parameters"
    ]
   },
   "outputs": [],
   "source": [
    "# Parameters\n",
    "datemin = \"2009-07-01\"\n",
    "datemax = \"2010-06-30\"\n"
   ]
  },
  {
   "cell_type": "code",
   "execution_count": 4,
   "metadata": {
    "execution": {
     "iopub.execute_input": "2020-11-18T14:02:50.313716Z",
     "iopub.status.busy": "2020-11-18T14:02:50.313236Z",
     "iopub.status.idle": "2020-11-18T14:02:54.270826Z",
     "shell.execute_reply": "2020-11-18T14:02:54.271922Z"
    },
    "papermill": {
     "duration": 3.966422,
     "end_time": "2020-11-18T14:02:54.272140",
     "exception": false,
     "start_time": "2020-11-18T14:02:50.305718",
     "status": "completed"
    },
    "tags": []
   },
   "outputs": [],
   "source": [
    "ds_points=ArgoDataFetcher(src='erddap').region([-55,-40,30,40,0,10000,datemin,datemax]).to_xarray()\n",
    "ds_profiles=ds_points.argo.point2profile()\n",
    "ncdir='/Users/auraoupa/Data/ARGO'\n",
    "netcdf_file=ncdir+'/ARGO_profiles_selection_for_NANFL_'+str(datemin)+'-'+str(datemax)+'.nc'\n",
    "ds_profiles.to_netcdf(path=netcdf_file,mode='w')"
   ]
  },
  {
   "cell_type": "code",
   "execution_count": null,
   "metadata": {
    "papermill": {
     "duration": 0.004293,
     "end_time": "2020-11-18T14:02:54.283983",
     "exception": false,
     "start_time": "2020-11-18T14:02:54.279690",
     "status": "completed"
    },
    "tags": []
   },
   "outputs": [],
   "source": []
  }
 ],
 "metadata": {
  "celltoolbar": "Tags",
  "kernelspec": {
   "display_name": "stat-comp",
   "language": "python",
   "name": "stat-comp"
  },
  "language_info": {
   "codemirror_mode": {
    "name": "ipython",
    "version": 3
   },
   "file_extension": ".py",
   "mimetype": "text/x-python",
   "name": "python",
   "nbconvert_exporter": "python",
   "pygments_lexer": "ipython3",
   "version": "3.6.11"
  },
  "papermill": {
   "default_parameters": {},
   "duration": 6.774711,
   "end_time": "2020-11-18T14:02:54.816297",
   "environment_variables": {},
   "exception": null,
   "input_path": "/Users/auraoupa/Work/git/validation-TSprofiles/notebooks/2020-11-18-AA-netcdf-NANFL-date-mac.ipynb",
   "output_path": "/Users/auraoupa/Work/git/validation-TSprofiles/notebooks/2020-11-18-AA-netcdf-NANFL-2009b-mac-output.ipynb",
   "parameters": {
    "datemax": "2010-06-30",
    "datemin": "2009-07-01"
   },
   "start_time": "2020-11-18T14:02:48.041586",
   "version": "2.2.2"
  }
 },
 "nbformat": 4,
 "nbformat_minor": 4
}