{
 "cells": [
  {
   "cell_type": "code",
   "execution_count": 1,
   "metadata": {
    "execution": {
     "iopub.execute_input": "2020-11-18T14:02:55.551873Z",
     "iopub.status.busy": "2020-11-18T14:02:55.551038Z",
     "iopub.status.idle": "2020-11-18T14:02:56.994395Z",
     "shell.execute_reply": "2020-11-18T14:02:56.994737Z"
    },
    "papermill": {
     "duration": 1.456102,
     "end_time": "2020-11-18T14:02:56.994860",
     "exception": false,
     "start_time": "2020-11-18T14:02:55.538758",
     "status": "completed"
    },
    "tags": []
   },
   "outputs": [],
   "source": [
    "from argopy import DataFetcher as ArgoDataFetcher\n",
    "import warnings\n",
    "warnings.filterwarnings('ignore')\n",
    "from netCDF4 import Dataset\n",
    "import pandas as pd\n",
    "import xarray as xr\n"
   ]
  },
  {
   "cell_type": "code",
   "execution_count": 2,
   "metadata": {
    "execution": {
     "iopub.execute_input": "2020-11-18T14:02:57.005556Z",
     "iopub.status.busy": "2020-11-18T14:02:57.004843Z",
     "iopub.status.idle": "2020-11-18T14:02:57.006536Z",
     "shell.execute_reply": "2020-11-18T14:02:57.007000Z"
    },
    "papermill": {
     "duration": 0.008099,
     "end_time": "2020-11-18T14:02:57.007096",
     "exception": false,
     "start_time": "2020-11-18T14:02:56.998997",
     "status": "completed"
    },
    "tags": [
     "parameters"
    ]
   },
   "outputs": [],
   "source": [
    "datemin='2009-01-01'\n",
    "datemax='2009-12-31'"
   ]
  },
  {
   "cell_type": "code",
   "execution_count": 3,
   "metadata": {
    "execution": {
     "iopub.execute_input": "2020-11-18T14:02:57.015877Z",
     "iopub.status.busy": "2020-11-18T14:02:57.015397Z",
     "iopub.status.idle": "2020-11-18T14:02:57.016720Z",
     "shell.execute_reply": "2020-11-18T14:02:57.017213Z"
    },
    "papermill": {
     "duration": 0.00725,
     "end_time": "2020-11-18T14:02:57.017301",
     "exception": false,
     "start_time": "2020-11-18T14:02:57.010051",
     "status": "completed"
    },
    "tags": [
     "injected-parameters"
    ]
   },
   "outputs": [],
   "source": [
    "# Parameters\n",
    "datemin = \"2010-07-01\"\n",
    "datemax = \"2011-06-30\"\n"
   ]
  },
  {
   "cell_type": "code",
   "execution_count": 4,
   "metadata": {
    "execution": {
     "iopub.execute_input": "2020-11-18T14:02:57.028054Z",
     "iopub.status.busy": "2020-11-18T14:02:57.027555Z",
     "iopub.status.idle": "2020-11-18T14:03:00.799083Z",
     "shell.execute_reply": "2020-11-18T14:03:00.799593Z"
    },
    "papermill": {
     "duration": 3.779651,
     "end_time": "2020-11-18T14:03:00.799689",
     "exception": false,
     "start_time": "2020-11-18T14:02:57.020038",
     "status": "completed"
    },
    "tags": []
   },
   "outputs": [],
   "source": [
    "ds_points=ArgoDataFetcher(src='erddap').region([-55,-40,30,40,0,10000,datemin,datemax]).to_xarray()\n",
    "ds_profiles=ds_points.argo.point2profile()\n",
    "ncdir='/Users/auraoupa/Data/ARGO'\n",
    "netcdf_file=ncdir+'/ARGO_profiles_selection_for_NANFL_'+str(datemin)+'-'+str(datemax)+'.nc'\n",
    "ds_profiles.to_netcdf(path=netcdf_file,mode='w')"
   ]
  },
  {
   "cell_type": "code",
   "execution_count": null,
   "metadata": {
    "papermill": {
     "duration": 0.003033,
     "end_time": "2020-11-18T14:03:00.806706",
     "exception": false,
     "start_time": "2020-11-18T14:03:00.803673",
     "status": "completed"
    },
    "tags": []
   },
   "outputs": [],
   "source": []
  }
 ],
 "metadata": {
  "celltoolbar": "Tags",
  "kernelspec": {
   "display_name": "stat-comp",
   "language": "python",
   "name": "stat-comp"
  },
  "language_info": {
   "codemirror_mode": {
    "name": "ipython",
    "version": 3
   },
   "file_extension": ".py",
   "mimetype": "text/x-python",
   "name": "python",
   "nbconvert_exporter": "python",
   "pygments_lexer": "ipython3",
   "version": "3.6.11"
  },
  "papermill": {
   "default_parameters": {},
   "duration": 6.477752,
   "end_time": "2020-11-18T14:03:01.327526",
   "environment_variables": {},
   "exception": null,
   "input_path": "/Users/auraoupa/Work/git/validation-TSprofiles/notebooks/2020-11-18-AA-netcdf-NANFL-date-mac.ipynb",
   "output_path": "/Users/auraoupa/Work/git/validation-TSprofiles/notebooks/2020-11-18-AA-netcdf-NANFL-2010b-mac-output.ipynb",
   "parameters": {
    "datemax": "2011-06-30",
    "datemin": "2010-07-01"
   },
   "start_time": "2020-11-18T14:02:54.849774",
   "version": "2.2.2"
  }
 },
 "nbformat": 4,
 "nbformat_minor": 4
}